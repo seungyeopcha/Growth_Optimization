{
 "cells": [
  {
   "cell_type": "code",
   "execution_count": 29,
   "metadata": {},
   "outputs": [],
   "source": [
    "import numpy as np\n",
    "import pandas as pd\n",
    "\n",
    "import matplotlib.pyplot as plt\n",
    "import matplotlib.image as img\n",
    "\n",
    "import cv2 as cv\n",
    "\n",
    "import os\n",
    "\n",
    "import glob"
   ]
  },
  {
   "cell_type": "code",
   "execution_count": 32,
   "metadata": {},
   "outputs": [],
   "source": [
    "img=cv.cvtColor(cv.imread('C:/data/dacon/open/train/CASE10/image/CASE10_40.png'),cv.COLOR_BGR2HSV)\n",
    "\n",
    "resize = cv.resize(img, (500 , 400))\n",
    "original=cv.cvtColor(resize,cv.COLOR_HSV2BGR)\n",
    "\n",
    "#hsv로 색 추출\n",
    "green_Lower=np.array([35,15,15])\n",
    "green_Upper=np.array([80,255,255])\n",
    "\n",
    "yellow_Lower=np.array([10,40,40])\n",
    "yellow_Upper=np.array([33,255,255])\n",
    "\n",
    "# mask\n",
    "img_mask_green=cv.inRange(resize,green_Lower,green_Upper)\n",
    "result_green=cv.bitwise_and(original,original,mask=img_mask_green)\n",
    "\n",
    "img_mask_yellow=cv.inRange(resize,yellow_Lower,yellow_Upper)\n",
    "result_yellow=cv.bitwise_and(original,original,mask=img_mask_yellow)\n",
    "\n",
    "#show\n",
    "cv.imshow(\"yellow\",result_yellow)\n",
    "cv.imshow(\"green\",result_green)\n",
    "cv.imshow(\"original\",original)\n",
    "cv.waitKey(0)\n",
    "cv.destroyAllWindows()"
   ]
  },
  {
   "cell_type": "code",
   "execution_count": 33,
   "metadata": {},
   "outputs": [],
   "source": [
    "#contour_green\n",
    "contours_green, _ = cv.findContours(img_mask_green,cv.RETR_EXTERNAL, cv.CHAIN_APPROX_SIMPLE)\n",
    "cv.drawContours(original, contours_green, -1, (0, 255, 0), 1)\n",
    "cv.drawContours(result_green, contours_green, -1, (0, 255, 0), 1)\n",
    "\n",
    "# contour_red\n",
    "contours_yellow, _ = cv.findContours(img_mask_yellow,cv.RETR_EXTERNAL, cv.CHAIN_APPROX_SIMPLE)\n",
    "cv.drawContours(original, contours_yellow, -1, (255, 0, 255), 1)\n",
    "cv.drawContours(result_yellow, contours_yellow, -1, (255,0,255), 1)\n",
    "\n",
    "cv.imshow('contours_green', result_green)\n",
    "cv.imshow('contours_yellow', result_yellow)\n",
    "cv.imshow('contours_original', original)\n",
    "\n",
    "cv.waitKey(0)\n",
    "cv.destroyAllWindows()"
   ]
  },
  {
   "cell_type": "code",
   "execution_count": 27,
   "metadata": {},
   "outputs": [
    {
     "name": "stdout",
     "output_type": "stream",
     "text": [
      "20502.5\n",
      "2220.5\n"
     ]
    }
   ],
   "source": [
    "#contour_area green\n",
    "area_green=0\n",
    "for i in range(0,(len(contours_green))):\n",
    "    area_green+=cv.contourArea(contours_green[i])\n",
    "    \n",
    "print(area_green)\n",
    "\n",
    "#contour_area yellow\n",
    "area_yellow=0\n",
    "for i in range(0,(len(contours_yellow))):\n",
    "    area_yellow+=cv.contourArea(contours_yellow[i])\n",
    "    \n",
    "print(area_yellow)\n",
    "\n"
   ]
  }
 ],
 "metadata": {
  "kernelspec": {
   "display_name": "Python 3",
   "language": "python",
   "name": "python3"
  },
  "language_info": {
   "codemirror_mode": {
    "name": "ipython",
    "version": 3
   },
   "file_extension": ".py",
   "mimetype": "text/x-python",
   "name": "python",
   "nbconvert_exporter": "python",
   "pygments_lexer": "ipython3",
   "version": "3.7.6"
  }
 },
 "nbformat": 4,
 "nbformat_minor": 4
}
